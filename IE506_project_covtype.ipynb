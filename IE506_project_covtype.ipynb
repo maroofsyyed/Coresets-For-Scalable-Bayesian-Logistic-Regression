{
  "cells": [
    {
      "cell_type": "code",
      "execution_count": null,
      "metadata": {
        "id": "pCJfecPOpHED"
      },
      "outputs": [],
      "source": [
        "import numpy as np\n",
        "from scipy.spatial.distance import cdist\n",
        "from sklearn.datasets import fetch_covtype\n",
        "from sklearn.cluster import KMeans\n",
        "from sklearn.preprocessing import StandardScaler\n",
        "from sklearn.linear_model import LogisticRegression"
      ]
    },
    {
      "cell_type": "code",
      "execution_count": null,
      "metadata": {
        "id": "MHFTfPzyDW8-"
      },
      "outputs": [],
      "source": [
        "# Set the parameters for the coreset algorithm\n",
        "k = 10\n",
        "R = 3\n",
        "epsilon = 0.1\n",
        "delta = 0.1\n",
        "c = 2"
      ]
    },
    {
      "cell_type": "code",
      "source": [
        "def load_small_covtype_dataset(size=2000):\n",
        "    data = fetch_covtype()\n",
        "    X, y = data.data[:size], data.target[:size]\n",
        "    return X, y"
      ],
      "metadata": {
        "id": "xHWKzM20lv7p"
      },
      "execution_count": null,
      "outputs": []
    },
    {
      "cell_type": "code",
      "source": [
        "def logistic_regression_coreset(X, y, k, c, R, epsilon, delta, M = 500):\n",
        "    N = X.shape[0]\n",
        "    D = X.shape[1]\n",
        "\n",
        "    # Perform k-means clustering\n",
        "    kmeans = KMeans(n_clusters=k).fit(X)\n",
        "    cluster_centers = kmeans.cluster_centers_\n",
        "    cluster_labels = kmeans.labels_\n",
        "\n",
        "    # Calculate sensitivity upper bounds\n",
        "    m = np.zeros(N)\n",
        "    for n in range(N):\n",
        "        G_minus_n = np.delete(cluster_labels, n)\n",
        "        cluster_sizes = np.bincount(cluster_labels)\n",
        "        cluster_sizes_minus_n = np.bincount(G_minus_n, minlength=k)\n",
        "        abs_diff = np.abs(cluster_sizes - cluster_sizes_minus_n)\n",
        "\n",
        "        Z_n = cdist(X[n].reshape(1, -1), cluster_centers, 'euclidean').flatten()\n",
        "        Z_minus_n = np.delete(Z_n, cluster_labels[n])\n",
        "        # print(\"G_minus_n \", len(G_minus_n))\n",
        "        # print(\"Z_n \", len(Z_n))\n",
        "        # print(\"Z_minus_n \", len(Z_minus_n))\n",
        "        # m[n] = N / (1 + np.sum(abs_diff * np.exp(-R * (Z_minus_n - Z_n[cluster_labels[n]])**2)))\n",
        "        exponentials = np.exp(-R * (Z_minus_n - Z_n[cluster_labels[n]])**2)\n",
        "        # m[n] = N / (1 + np.sum(abs_diff * exponentials))\n",
        "        m[n] = N / (1 + np.sum(abs_diff[:-1] * exponentials))\n",
        "\n",
        "    m_mean = np.mean(m)\n",
        "\n",
        "    # Calculate coreset size\n",
        "\n",
        "    M = int(np.ceil(c * m_mean * (D + 1) * np.log(m_mean) / (epsilon**2) + np.log(1 / delta)))\n",
        "\n",
        "    # Calculate importance weights\n",
        "    p = m / (N * m_mean)\n",
        "\n",
        "    # Sample data for coreset\n",
        "    K = np.random.multinomial(M, p)\n",
        "\n",
        "    # Calculate coreset weights\n",
        "    gamma = K / (p * M)\n",
        "\n",
        "    # Construct coreset\n",
        "    coreset_indices = np.nonzero(gamma)[0]\n",
        "    coreset_weights = gamma[coreset_indices]\n",
        "    coreset_X = X[coreset_indices]\n",
        "    coreset_y = y[coreset_indices]\n",
        "\n",
        "    return coreset_X, coreset_y, coreset_weights"
      ],
      "metadata": {
        "id": "-lRrDJlylz6-"
      },
      "execution_count": null,
      "outputs": []
    },
    {
      "cell_type": "code",
      "source": [
        "# Load a smaller chunk of the covtype dataset\n",
        "X, y = load_small_covtype_dataset(size=12000)\n",
        "print(X[0])\n",
        "print(y[:5])"
      ],
      "metadata": {
        "colab": {
          "base_uri": "https://localhost:8080/"
        },
        "id": "E2-952HMl08U",
        "outputId": "481d849d-1735-4f9b-9b4a-5b2d8a8ce813"
      },
      "execution_count": null,
      "outputs": [
        {
          "output_type": "stream",
          "name": "stdout",
          "text": [
            "[2.596e+03 5.100e+01 3.000e+00 2.580e+02 0.000e+00 5.100e+02 2.210e+02\n",
            " 2.320e+02 1.480e+02 6.279e+03 1.000e+00 0.000e+00 0.000e+00 0.000e+00\n",
            " 0.000e+00 0.000e+00 0.000e+00 0.000e+00 0.000e+00 0.000e+00 0.000e+00\n",
            " 0.000e+00 0.000e+00 0.000e+00 0.000e+00 0.000e+00 0.000e+00 0.000e+00\n",
            " 0.000e+00 0.000e+00 0.000e+00 0.000e+00 0.000e+00 0.000e+00 0.000e+00\n",
            " 0.000e+00 0.000e+00 0.000e+00 0.000e+00 0.000e+00 0.000e+00 0.000e+00\n",
            " 1.000e+00 0.000e+00 0.000e+00 0.000e+00 0.000e+00 0.000e+00 0.000e+00\n",
            " 0.000e+00 0.000e+00 0.000e+00 0.000e+00 0.000e+00]\n",
            "[5 5 2 2 5]\n"
          ]
        }
      ]
    },
    {
      "cell_type": "code",
      "source": [
        "coreset_X, coreset_y, coreset_weights = logistic_regression_coreset(X, y, c, k, R, epsilon, delta, M = 500)\n",
        "# Train a logistic regression model on the coreset\n",
        "clf = LogisticRegression(max_iter=2000);\n",
        "clf.fit(coreset_X, coreset_y, sample_weight=coreset_weights);"
      ],
      "metadata": {
        "colab": {
          "base_uri": "https://localhost:8080/"
        },
        "id": "Cf1wxVcWl5Nr",
        "outputId": "f7c341c8-a4ea-484d-b9f1-17a633707a7a"
      },
      "execution_count": null,
      "outputs": [
        {
          "output_type": "stream",
          "name": "stderr",
          "text": [
            "/usr/local/lib/python3.9/dist-packages/sklearn/cluster/_kmeans.py:870: FutureWarning: The default value of `n_init` will change from 10 to 'auto' in 1.4. Set the value of `n_init` explicitly to suppress the warning\n",
            "  warnings.warn(\n",
            "/usr/local/lib/python3.9/dist-packages/sklearn/linear_model/_logistic.py:458: ConvergenceWarning: lbfgs failed to converge (status=1):\n",
            "STOP: TOTAL NO. of ITERATIONS REACHED LIMIT.\n",
            "\n",
            "Increase the number of iterations (max_iter) or scale the data as shown in:\n",
            "    https://scikit-learn.org/stable/modules/preprocessing.html\n",
            "Please also refer to the documentation for alternative solver options:\n",
            "    https://scikit-learn.org/stable/modules/linear_model.html#logistic-regression\n",
            "  n_iter_i = _check_optimize_result(\n"
          ]
        }
      ]
    },
    {
      "cell_type": "code",
      "source": [
        "# Test the model on the original dataset\n",
        "accuracy = clf.score(X, y)\n",
        "print(\"Accuracy:\", accuracy)"
      ],
      "metadata": {
        "colab": {
          "base_uri": "https://localhost:8080/"
        },
        "id": "NHDB6k8amJj5",
        "outputId": "5073739a-d040-4f86-b1af-5747d6cdf949"
      },
      "execution_count": null,
      "outputs": [
        {
          "output_type": "stream",
          "name": "stdout",
          "text": [
            "Accuracy: 0.574\n"
          ]
        }
      ]
    },
    {
      "cell_type": "code",
      "source": [
        "# Lists to store results\n",
        "coreset_sizes = []\n",
        "coreset_accuracies = []\n",
        "subset_accuracies = []\n",
        "subset_sizes = [100, 500, 1000, 2000, 5000, 7000, 9000]"
      ],
      "metadata": {
        "id": "sDnhT0m8qJxi"
      },
      "execution_count": null,
      "outputs": []
    },
    {
      "cell_type": "code",
      "source": [
        "from sklearn.model_selection import train_test_split\n",
        "from sklearn.linear_model import LogisticRegression\n",
        "from sklearn.metrics import accuracy_score\n",
        "\n",
        "\n",
        "# Split the dataset into training and testing sets\n",
        "X_train, X_test, y_train, y_test = train_test_split(X, y, test_size=0.2, random_state=42)\n",
        "\n",
        "# Train a logistic regression model on the full dataset\n",
        "clf_full = LogisticRegression(max_iter=1000)\n",
        "clf_full.fit(X_train, y_train);\n",
        "full_accuracy = clf_full.score(X_test, y_test);"
      ],
      "metadata": {
        "colab": {
          "base_uri": "https://localhost:8080/"
        },
        "id": "6E8hNUqZvLeC",
        "outputId": "05e68298-6f68-4e42-af98-03686bc96559"
      },
      "execution_count": null,
      "outputs": [
        {
          "output_type": "stream",
          "name": "stderr",
          "text": [
            "/usr/local/lib/python3.9/dist-packages/sklearn/linear_model/_logistic.py:458: ConvergenceWarning: lbfgs failed to converge (status=1):\n",
            "STOP: TOTAL NO. of ITERATIONS REACHED LIMIT.\n",
            "\n",
            "Increase the number of iterations (max_iter) or scale the data as shown in:\n",
            "    https://scikit-learn.org/stable/modules/preprocessing.html\n",
            "Please also refer to the documentation for alternative solver options:\n",
            "    https://scikit-learn.org/stable/modules/linear_model.html#logistic-regression\n",
            "  n_iter_i = _check_optimize_result(\n"
          ]
        }
      ]
    },
    {
      "cell_type": "code",
      "source": [
        "print(full_accuracy)"
      ],
      "metadata": {
        "colab": {
          "base_uri": "https://localhost:8080/"
        },
        "id": "uAECLOOoMLiT",
        "outputId": "069c08de-a067-4bbc-bcc4-595797f75233"
      },
      "execution_count": null,
      "outputs": [
        {
          "output_type": "stream",
          "name": "stdout",
          "text": [
            "0.5966666666666667\n"
          ]
        }
      ]
    },
    {
      "cell_type": "code",
      "source": [
        "for size in subset_sizes:\n",
        "    print(\"subset size:\", size)\n",
        "    # Construct a random subset of the training data\n",
        "    if size > X_train.shape[0]:\n",
        "      size = X_train.shape[0]\n",
        "    subset_indices = np.random.choice(X_train.shape[0], size=size, replace=False)\n",
        "    subset_X = X_train[subset_indices]\n",
        "    subset_y = y_train[subset_indices]\n",
        "\n",
        "    # Train a logistic regression model on the subset\n",
        "    clf_subset = LogisticRegression(max_iter=1000);\n",
        "    clf_subset.fit(subset_X, subset_y);\n",
        "\n",
        "    # Test the model on the testing dataset\n",
        "    subset_accuracy = clf_subset.score(X_test, y_test);\n",
        "    subset_accuracies.append(subset_accuracy)\n",
        "\n",
        "    # Construct the logistic regression coreset\n",
        "    coreset_X, coreset_y, coreset_weights = logistic_regression_coreset(X_train, y_train, k, c, R, epsilon, delta, M=size);\n",
        "    coreset_size = coreset_X.shape[0]\n",
        "    coreset_sizes.append(coreset_size)\n",
        "\n",
        "    # Train a logistic regression model on the coreset\n",
        "    clf_coreset = LogisticRegression(max_iter=1000);\n",
        "    clf_coreset.fit(coreset_X, coreset_y, sample_weight=coreset_weights);\n",
        "\n",
        "    # Test the model on the testing dataset\n",
        "    coreset_accuracy = clf_coreset.score(X_test, y_test);\n",
        "    coreset_accuracies.append(coreset_accuracy)"
      ],
      "metadata": {
        "colab": {
          "base_uri": "https://localhost:8080/"
        },
        "id": "C2tvujsSzBGI",
        "outputId": "d4014c4b-f48b-4cf8-e02e-4c17e4de5fff"
      },
      "execution_count": null,
      "outputs": [
        {
          "output_type": "stream",
          "name": "stdout",
          "text": [
            "subset size: 100\n"
          ]
        },
        {
          "output_type": "stream",
          "name": "stderr",
          "text": [
            "/usr/local/lib/python3.9/dist-packages/sklearn/linear_model/_logistic.py:458: ConvergenceWarning: lbfgs failed to converge (status=1):\n",
            "STOP: TOTAL NO. of ITERATIONS REACHED LIMIT.\n",
            "\n",
            "Increase the number of iterations (max_iter) or scale the data as shown in:\n",
            "    https://scikit-learn.org/stable/modules/preprocessing.html\n",
            "Please also refer to the documentation for alternative solver options:\n",
            "    https://scikit-learn.org/stable/modules/linear_model.html#logistic-regression\n",
            "  n_iter_i = _check_optimize_result(\n",
            "/usr/local/lib/python3.9/dist-packages/sklearn/cluster/_kmeans.py:870: FutureWarning: The default value of `n_init` will change from 10 to 'auto' in 1.4. Set the value of `n_init` explicitly to suppress the warning\n",
            "  warnings.warn(\n",
            "/usr/local/lib/python3.9/dist-packages/sklearn/linear_model/_logistic.py:458: ConvergenceWarning: lbfgs failed to converge (status=1):\n",
            "STOP: TOTAL NO. of ITERATIONS REACHED LIMIT.\n",
            "\n",
            "Increase the number of iterations (max_iter) or scale the data as shown in:\n",
            "    https://scikit-learn.org/stable/modules/preprocessing.html\n",
            "Please also refer to the documentation for alternative solver options:\n",
            "    https://scikit-learn.org/stable/modules/linear_model.html#logistic-regression\n",
            "  n_iter_i = _check_optimize_result(\n"
          ]
        },
        {
          "output_type": "stream",
          "name": "stdout",
          "text": [
            "subset size: 500\n"
          ]
        },
        {
          "output_type": "stream",
          "name": "stderr",
          "text": [
            "/usr/local/lib/python3.9/dist-packages/sklearn/linear_model/_logistic.py:458: ConvergenceWarning: lbfgs failed to converge (status=1):\n",
            "STOP: TOTAL NO. of ITERATIONS REACHED LIMIT.\n",
            "\n",
            "Increase the number of iterations (max_iter) or scale the data as shown in:\n",
            "    https://scikit-learn.org/stable/modules/preprocessing.html\n",
            "Please also refer to the documentation for alternative solver options:\n",
            "    https://scikit-learn.org/stable/modules/linear_model.html#logistic-regression\n",
            "  n_iter_i = _check_optimize_result(\n",
            "/usr/local/lib/python3.9/dist-packages/sklearn/cluster/_kmeans.py:870: FutureWarning: The default value of `n_init` will change from 10 to 'auto' in 1.4. Set the value of `n_init` explicitly to suppress the warning\n",
            "  warnings.warn(\n",
            "/usr/local/lib/python3.9/dist-packages/sklearn/linear_model/_logistic.py:458: ConvergenceWarning: lbfgs failed to converge (status=1):\n",
            "STOP: TOTAL NO. of ITERATIONS REACHED LIMIT.\n",
            "\n",
            "Increase the number of iterations (max_iter) or scale the data as shown in:\n",
            "    https://scikit-learn.org/stable/modules/preprocessing.html\n",
            "Please also refer to the documentation for alternative solver options:\n",
            "    https://scikit-learn.org/stable/modules/linear_model.html#logistic-regression\n",
            "  n_iter_i = _check_optimize_result(\n"
          ]
        },
        {
          "output_type": "stream",
          "name": "stdout",
          "text": [
            "subset size: 1000\n"
          ]
        },
        {
          "output_type": "stream",
          "name": "stderr",
          "text": [
            "/usr/local/lib/python3.9/dist-packages/sklearn/linear_model/_logistic.py:458: ConvergenceWarning: lbfgs failed to converge (status=1):\n",
            "STOP: TOTAL NO. of ITERATIONS REACHED LIMIT.\n",
            "\n",
            "Increase the number of iterations (max_iter) or scale the data as shown in:\n",
            "    https://scikit-learn.org/stable/modules/preprocessing.html\n",
            "Please also refer to the documentation for alternative solver options:\n",
            "    https://scikit-learn.org/stable/modules/linear_model.html#logistic-regression\n",
            "  n_iter_i = _check_optimize_result(\n",
            "/usr/local/lib/python3.9/dist-packages/sklearn/cluster/_kmeans.py:870: FutureWarning: The default value of `n_init` will change from 10 to 'auto' in 1.4. Set the value of `n_init` explicitly to suppress the warning\n",
            "  warnings.warn(\n",
            "/usr/local/lib/python3.9/dist-packages/sklearn/linear_model/_logistic.py:458: ConvergenceWarning: lbfgs failed to converge (status=1):\n",
            "STOP: TOTAL NO. of ITERATIONS REACHED LIMIT.\n",
            "\n",
            "Increase the number of iterations (max_iter) or scale the data as shown in:\n",
            "    https://scikit-learn.org/stable/modules/preprocessing.html\n",
            "Please also refer to the documentation for alternative solver options:\n",
            "    https://scikit-learn.org/stable/modules/linear_model.html#logistic-regression\n",
            "  n_iter_i = _check_optimize_result(\n"
          ]
        },
        {
          "output_type": "stream",
          "name": "stdout",
          "text": [
            "subset size: 2000\n"
          ]
        },
        {
          "output_type": "stream",
          "name": "stderr",
          "text": [
            "/usr/local/lib/python3.9/dist-packages/sklearn/linear_model/_logistic.py:458: ConvergenceWarning: lbfgs failed to converge (status=1):\n",
            "STOP: TOTAL NO. of ITERATIONS REACHED LIMIT.\n",
            "\n",
            "Increase the number of iterations (max_iter) or scale the data as shown in:\n",
            "    https://scikit-learn.org/stable/modules/preprocessing.html\n",
            "Please also refer to the documentation for alternative solver options:\n",
            "    https://scikit-learn.org/stable/modules/linear_model.html#logistic-regression\n",
            "  n_iter_i = _check_optimize_result(\n",
            "/usr/local/lib/python3.9/dist-packages/sklearn/cluster/_kmeans.py:870: FutureWarning: The default value of `n_init` will change from 10 to 'auto' in 1.4. Set the value of `n_init` explicitly to suppress the warning\n",
            "  warnings.warn(\n",
            "/usr/local/lib/python3.9/dist-packages/sklearn/linear_model/_logistic.py:458: ConvergenceWarning: lbfgs failed to converge (status=1):\n",
            "STOP: TOTAL NO. of ITERATIONS REACHED LIMIT.\n",
            "\n",
            "Increase the number of iterations (max_iter) or scale the data as shown in:\n",
            "    https://scikit-learn.org/stable/modules/preprocessing.html\n",
            "Please also refer to the documentation for alternative solver options:\n",
            "    https://scikit-learn.org/stable/modules/linear_model.html#logistic-regression\n",
            "  n_iter_i = _check_optimize_result(\n"
          ]
        },
        {
          "output_type": "stream",
          "name": "stdout",
          "text": [
            "subset size: 5000\n"
          ]
        },
        {
          "output_type": "stream",
          "name": "stderr",
          "text": [
            "/usr/local/lib/python3.9/dist-packages/sklearn/linear_model/_logistic.py:458: ConvergenceWarning: lbfgs failed to converge (status=1):\n",
            "STOP: TOTAL NO. of ITERATIONS REACHED LIMIT.\n",
            "\n",
            "Increase the number of iterations (max_iter) or scale the data as shown in:\n",
            "    https://scikit-learn.org/stable/modules/preprocessing.html\n",
            "Please also refer to the documentation for alternative solver options:\n",
            "    https://scikit-learn.org/stable/modules/linear_model.html#logistic-regression\n",
            "  n_iter_i = _check_optimize_result(\n",
            "/usr/local/lib/python3.9/dist-packages/sklearn/cluster/_kmeans.py:870: FutureWarning: The default value of `n_init` will change from 10 to 'auto' in 1.4. Set the value of `n_init` explicitly to suppress the warning\n",
            "  warnings.warn(\n",
            "/usr/local/lib/python3.9/dist-packages/sklearn/linear_model/_logistic.py:458: ConvergenceWarning: lbfgs failed to converge (status=1):\n",
            "STOP: TOTAL NO. of ITERATIONS REACHED LIMIT.\n",
            "\n",
            "Increase the number of iterations (max_iter) or scale the data as shown in:\n",
            "    https://scikit-learn.org/stable/modules/preprocessing.html\n",
            "Please also refer to the documentation for alternative solver options:\n",
            "    https://scikit-learn.org/stable/modules/linear_model.html#logistic-regression\n",
            "  n_iter_i = _check_optimize_result(\n"
          ]
        },
        {
          "output_type": "stream",
          "name": "stdout",
          "text": [
            "subset size: 7000\n"
          ]
        },
        {
          "output_type": "stream",
          "name": "stderr",
          "text": [
            "/usr/local/lib/python3.9/dist-packages/sklearn/linear_model/_logistic.py:458: ConvergenceWarning: lbfgs failed to converge (status=1):\n",
            "STOP: TOTAL NO. of ITERATIONS REACHED LIMIT.\n",
            "\n",
            "Increase the number of iterations (max_iter) or scale the data as shown in:\n",
            "    https://scikit-learn.org/stable/modules/preprocessing.html\n",
            "Please also refer to the documentation for alternative solver options:\n",
            "    https://scikit-learn.org/stable/modules/linear_model.html#logistic-regression\n",
            "  n_iter_i = _check_optimize_result(\n",
            "/usr/local/lib/python3.9/dist-packages/sklearn/cluster/_kmeans.py:870: FutureWarning: The default value of `n_init` will change from 10 to 'auto' in 1.4. Set the value of `n_init` explicitly to suppress the warning\n",
            "  warnings.warn(\n",
            "/usr/local/lib/python3.9/dist-packages/sklearn/linear_model/_logistic.py:458: ConvergenceWarning: lbfgs failed to converge (status=1):\n",
            "STOP: TOTAL NO. of ITERATIONS REACHED LIMIT.\n",
            "\n",
            "Increase the number of iterations (max_iter) or scale the data as shown in:\n",
            "    https://scikit-learn.org/stable/modules/preprocessing.html\n",
            "Please also refer to the documentation for alternative solver options:\n",
            "    https://scikit-learn.org/stable/modules/linear_model.html#logistic-regression\n",
            "  n_iter_i = _check_optimize_result(\n"
          ]
        },
        {
          "output_type": "stream",
          "name": "stdout",
          "text": [
            "subset size: 9000\n"
          ]
        },
        {
          "output_type": "stream",
          "name": "stderr",
          "text": [
            "/usr/local/lib/python3.9/dist-packages/sklearn/linear_model/_logistic.py:458: ConvergenceWarning: lbfgs failed to converge (status=1):\n",
            "STOP: TOTAL NO. of ITERATIONS REACHED LIMIT.\n",
            "\n",
            "Increase the number of iterations (max_iter) or scale the data as shown in:\n",
            "    https://scikit-learn.org/stable/modules/preprocessing.html\n",
            "Please also refer to the documentation for alternative solver options:\n",
            "    https://scikit-learn.org/stable/modules/linear_model.html#logistic-regression\n",
            "  n_iter_i = _check_optimize_result(\n",
            "/usr/local/lib/python3.9/dist-packages/sklearn/cluster/_kmeans.py:870: FutureWarning: The default value of `n_init` will change from 10 to 'auto' in 1.4. Set the value of `n_init` explicitly to suppress the warning\n",
            "  warnings.warn(\n",
            "/usr/local/lib/python3.9/dist-packages/sklearn/linear_model/_logistic.py:458: ConvergenceWarning: lbfgs failed to converge (status=1):\n",
            "STOP: TOTAL NO. of ITERATIONS REACHED LIMIT.\n",
            "\n",
            "Increase the number of iterations (max_iter) or scale the data as shown in:\n",
            "    https://scikit-learn.org/stable/modules/preprocessing.html\n",
            "Please also refer to the documentation for alternative solver options:\n",
            "    https://scikit-learn.org/stable/modules/linear_model.html#logistic-regression\n",
            "  n_iter_i = _check_optimize_result(\n"
          ]
        }
      ]
    },
    {
      "cell_type": "code",
      "source": [
        "from matplotlib import pyplot as plt\n",
        "\n",
        "# Plot coreset size vs. accuracy\n",
        "plt.plot(coreset_sizes, coreset_accuracies, marker='o', label='Coreset')\n",
        "plt.plot(subset_sizes, subset_accuracies, marker='o', label='Random Subset')\n",
        "plt.axhline(y=full_accuracy, color='r', linestyle='--', label='Full Data')\n",
        "plt.xlabel('Data Size')\n",
        "plt.ylabel('Accuracy')\n",
        "plt.title('Data Size vs. Accuracy')\n",
        "plt.legend()\n",
        "plt.grid()\n",
        "plt.show()"
      ],
      "metadata": {
        "colab": {
          "base_uri": "https://localhost:8080/",
          "height": 472
        },
        "id": "GxpDXOj3ziG7",
        "outputId": "8e03adf5-6b6f-4496-99ae-4ce0e9e8ff6f"
      },
      "execution_count": null,
      "outputs": [
        {
          "output_type": "display_data",
          "data": {
            "text/plain": [
              "<Figure size 640x480 with 1 Axes>"
            ],
            "image/png": "[encoded data removed]"
          },
          "metadata": {}
        }
      ]
    },
    {
      "cell_type": "code",
      "source": [
        "from sklearn.metrics.pairwise import polynomial_kernel\n",
        "from scipy.stats import multivariate_normal"
      ],
      "metadata": {
        "id": "3uGuqSjy2oyX"
      },
      "execution_count": null,
      "outputs": []
    },
    {
      "cell_type": "code",
      "source": [
        "coreset_sizes2 = []\n",
        "coreset_mmds = []\n",
        "coreset_nlls = []\n",
        "subset_mmds = []\n",
        "subset_nlls = []"
      ],
      "metadata": {
        "id": "QGFOep7m5jov"
      },
      "execution_count": null,
      "outputs": []
    },
    {
      "cell_type": "code",
      "source": [
        "import tensorflow as tf\n",
        "\n",
        "def polynomial_ker(X, Y, c=0, d=3):\n",
        "    if Y.ndim == 1:\n",
        "        Y = np.expand_dims(Y, axis=1)\n",
        "    if X.ndim == 1:\n",
        "        X = np.expand_dims(X, axis=1)\n",
        "    K = 0\n",
        "    for i in range(tf.shape(X)[0]):\n",
        "        for j in range(tf.shape(Y)[0]):\n",
        "            K += (tf.reduce_sum((X[i,:] - Y[j, :])**2) + c)**d\n",
        "    return K\n",
        "\n",
        "# Define the MMD loss function\n",
        "def mmd_loss(X, Y, c=0, d=3):\n",
        "\n",
        "    if(X.dtype != np.float64):\n",
        "      X = tf.cast(X, dtype = np.float64)\n",
        "    if(Y.dtype != np.float64):\n",
        "      Y = tf.cast(Y, dtype = np.float64)\n",
        "\n",
        "    K_XX = polynomial_ker(X, X, c, d)\n",
        "    K_XY = polynomial_ker(X, Y, c, d)\n",
        "    K_YY = polynomial_ker(Y, Y, c, d)\n",
        "    n = tf.shape(X)[0]\n",
        "    m = tf.shape(Y)[0]\n",
        "    n = tf.cast(n, dtype = tf.float64)\n",
        "    m = tf.cast(m, dtype = tf.float64)\n",
        "    print(K_XX)\n",
        "    print(\"X_dtype\", X.dtype)\n",
        "    print(\"Y_dtype\", Y.dtype)\n",
        "    loss = tf.reduce_sum(K_XX) / (n * n) + tf.reduce_sum(K_YY) / (m * m) - 2 * tf.reduce_sum(K_XY) / (n * m)\n",
        "    return loss\n",
        "\n",
        "# Define the negative log likelihood loss function\n",
        "def nll_loss(X, Y, c=0, d=3):\n",
        "\n",
        "    if(X.dtype != np.float64):\n",
        "      X = tf.cast(X, dtype = np.float64)\n",
        "    if(Y.dtype != np.float64):\n",
        "      Y = tf.cast(Y, dtype = np.float64)\n",
        "\n",
        "    K_XX = polynomial_ker(X, X, c, d)\n",
        "    K_XY = polynomial_ker(X, Y, c, d)\n",
        "    K_YY = polynomial_ker(Y, Y, c, d)\n",
        "    n = tf.shape(X)[0]\n",
        "    m = tf.shape(Y)[0]\n",
        "    n = tf.cast(n, dtype = tf.float64)\n",
        "    m = n = tf.cast(m, dtype = tf.float64)\n",
        "    loss = tf.reduce_sum(K_XX) / (n * n) + tf.reduce_sum(K_YY) / (m * m) - 2 * tf.reduce_sum(K_XY) / (n * m)\n",
        "    return 0.5 * loss + 0.5 * np.log(n * m)"
      ],
      "metadata": {
        "id": "LdMNquJe9VqX"
      },
      "execution_count": null,
      "outputs": []
    },
    {
      "cell_type": "code",
      "source": [
        "for size in subset_sizes:\n",
        "    # Construct a random subset of the training data\n",
        "    if size > X_train.shape[0]:\n",
        "        size = X_train.shape[0]\n",
        "    subset_indices = np.random.choice(X_train.shape[0], size=size, replace=False);\n",
        "    subset_X = X_train[subset_indices]\n",
        "    subset_y = y_train[subset_indices]\n",
        "    print(subset_X.shape)\n",
        "    print(subset_y.shape)\n",
        "\n",
        "    # Compute the Polynomial MMD and negative test log-likelihood of the subset\n",
        "    # K = polynomial_kernel(subset_X, subset_X, degree=3)\n",
        "    # L = np.diag(np.sum(K, axis=1)) - K\n",
        "    # mmd = np.trace(np.dot(np.dot(K, L), K))\n",
        "    mmd = mmd_loss(subset_X, subset_y)\n",
        "    subset_nll = nll_loss(subset_X, subset_y)\n",
        "\n",
        "    # Train a logistic regression model on the subset\n",
        "    clf_subset = LogisticRegression(max_iter=1000);\n",
        "    clf_subset.fit(subset_X, subset_y);\n",
        "\n",
        "    # Test the model on the testing dataset\n",
        "    subset_accuracy = clf_subset.score(X_test, y_test);\n",
        "    subset_mmds.append(mmd);\n",
        "    subset_nlls.append(subset_nll);\n",
        "\n",
        "    # Construct the logistic regression coreset\n",
        "    coreset_X, coreset_y, coreset_weights = logistic_regression_coreset(X_train, y_train, k, c, R, epsilon, delta, M=size);\n",
        "    coreset_size = coreset_X.shape[0]\n",
        "    coreset_sizes2.append(coreset_size)\n",
        "\n",
        "    # Compute the Polynomial MMD and negative test log-likelihood of the coreset\n",
        "    mmd = mmd_loss(coreset_X, coreset_y);\n",
        "    coreset_nll = nll_loss(coreset_X, coreset_y);\n",
        "\n",
        "    # Train a logistic regression model on the coreset\n",
        "    clf_coreset = LogisticRegression(max_iter=1000)\n",
        "    clf_coreset.fit(coreset_X, coreset_y, sample_weight=coreset_weights);\n",
        "\n",
        "    # Test the model on the testing dataset\n",
        "    coreset_accuracy = clf_coreset.score(X_test, y_test);\n",
        "    coreset_mmds.append(mmd);\n",
        "    coreset_nlls.append(coreset_nll);"
      ],
      "metadata": {
        "id": "zo9LHhxbJlmu"
      },
      "execution_count": null,
      "outputs": []
    },
    {
      "cell_type": "code",
      "source": [
        "# Scale the values of the negative log-likelihood by a factor of 100\n",
        "# subset_nlls = [nll /100 for nll in subset_nlls]\n",
        "# coreset_nlls = [nll /100 for nll in coreset_nlls]\n",
        "print(subset_nlls)\n",
        "print(coreset_nlls)\n",
        "print(subset_mmds)\n",
        "print(coreset_mmds)"
      ],
      "metadata": {
        "colab": {
          "base_uri": "https://localhost:8080/"
        },
        "id": "MEPyadPR-yiE",
        "outputId": "a5a34e3c-402d-42a0-a728-da5129346229"
      },
      "execution_count": null,
      "outputs": [
        {
          "output_type": "stream",
          "name": "stdout",
          "text": [
            "[<tf.Tensor: shape=(), dtype=float64, numpy=0.00046051701859880915>, <tf.Tensor: shape=(), dtype=float64, numpy=0.0006214608098422191>, <tf.Tensor: shape=(), dtype=float64, numpy=0.0006907755278982137>, <tf.Tensor: shape=(), dtype=float64, numpy=0.0007600902459542082>, <tf.Tensor: shape=(), dtype=float64, numpy=0.0008517193191416237>, <tf.Tensor: shape=(), dtype=float64, numpy=0.000885366542803745>, <tf.Tensor: shape=(), dtype=float64, numpy=0.0009104979856318357>]\n",
            "[<tf.Tensor: shape=(), dtype=float64, numpy=0.00046051701859880915>, <tf.Tensor: shape=(), dtype=float64, numpy=0.0006186208623900494>, <tf.Tensor: shape=(), dtype=float64, numpy=0.0006863803391452955>, <tf.Tensor: shape=(), dtype=float64, numpy=0.0007491087593534876>, <tf.Tensor: shape=(), dtype=float64, numpy=0.0008261784679514752>, <tf.Tensor: shape=(), dtype=float64, numpy=0.0008512381634419014>, <tf.Tensor: shape=(), dtype=float64, numpy=0.0008669055540725484>]\n",
            "[<tf.Tensor: shape=(), dtype=float64, numpy=0.0>, <tf.Tensor: shape=(), dtype=float64, numpy=0.0>, <tf.Tensor: shape=(), dtype=float64, numpy=0.0>, <tf.Tensor: shape=(), dtype=float64, numpy=0.0>, <tf.Tensor: shape=(), dtype=float64, numpy=0.0>, <tf.Tensor: shape=(), dtype=float64, numpy=0.0>, <tf.Tensor: shape=(), dtype=float64, numpy=0.0>]\n",
            "[<tf.Tensor: shape=(), dtype=float64, numpy=0.0>, <tf.Tensor: shape=(), dtype=float64, numpy=0.0>, <tf.Tensor: shape=(), dtype=float64, numpy=0.0>, <tf.Tensor: shape=(), dtype=float64, numpy=0.0>, <tf.Tensor: shape=(), dtype=float64, numpy=0.0>, <tf.Tensor: shape=(), dtype=float64, numpy=0.0>, <tf.Tensor: shape=(), dtype=float64, numpy=0.0>]\n"
          ]
        }
      ]
    },
    {
      "cell_type": "code",
      "source": [
        "# Plot coreset size vs. negative test log-likelihood\n",
        "plt.plot(coreset_sizes2, coreset_nlls, marker='o', label='Coreset')\n",
        "plt.plot(subset_sizes, subset_nlls, marker='o', label='Random Subset')\n",
        "plt.xlabel('Data Size')\n",
        "plt.ylabel('Negative Test Log-Likelihood')\n",
        "plt.title('Data Size vs. Negative Test Log-Likelihood')\n",
        "plt.legend()\n",
        "plt.grid()\n",
        "plt.show()"
      ],
      "metadata": {
        "colab": {
          "base_uri": "https://localhost:8080/",
          "height": 472
        },
        "id": "TNNAhOa_7_BY",
        "outputId": "49dcd1a6-deff-49c7-a0a5-7c8b41e7df9f"
      },
      "execution_count": null,
      "outputs": [
        {
          "output_type": "display_data",
          "data": {
            "text/plain": [
              "<Figure size 640x480 with 1 Axes>"
            ],
            "image/png": "[encoded data removed]"
          },
          "metadata": {}
        }
      ]
    },
    {
      "cell_type": "code",
      "source": [],
      "metadata": {
        "id": "PpZNIiQTciCK"
      },
      "execution_count": null,
      "outputs": []
    }
  ],
  "metadata": {
    "colab": {
      "provenance": []
    },
    "kernelspec": {
      "display_name": "Python 3",
      "name": "python3"
    },
    "language_info": {
      "name": "python"
    }
  },
  "nbformat": 4,
  "nbformat_minor": 0
}